{
 "cells": [
  {
   "cell_type": "markdown",
   "id": "055838dd-8e41-4ee5-991e-db3f89680bf6",
   "metadata": {},
   "source": [
    "# Product Recommendation System for Amazon online store "
   ]
  },
  {
   "cell_type": "markdown",
   "id": "6d247ce7-df28-4666-8ac4-ad1c58f608a6",
   "metadata": {},
   "source": [
    "In this notebook we utilise the Amazon beauty products rating dataset found on kaggle to create a recommender system that suggest beauty products to customers.\n",
    "The dataset contains over 2 Million customer ratings of Beauty related products sold on their website.\n",
    "It contains\n",
    "1. the unique UserId (Customer Identification),\n",
    "2. the ProductId (Amazon's unique product identification code for each product),\n",
    "3. Ratings (ranging from 1-5 based on customer satisfaction) and\n",
    "4. the Timestamp of the rating (in UNIX time)"
   ]
  },
  {
   "cell_type": "markdown",
   "id": "81c847cf-8b7b-4fe2-a1c0-13b86d00a39a",
   "metadata": {},
   "source": [
    "**The recommendation system is designed in three parts**.\n",
    "1. **Popularity recommender engine**: This is  a recommender designed for new customers unto the platform where we have no purchasing history. On this engine once  new customer lands of a beauty CLP it will recommend top 10 bestselling products. The engine uses both the most popularly rated items along with their ratings to generate the top 10 products within the category. The concept behind is using best sellers tags we usually see on ecomm platforms.\n",
    "2. **Model-based collaborative filtering recommender system**: This engine is more for returning customers. It uses the SVD model to predict how much a user would like a product they haven't interacted with yet, based on shared preferences between similar users or items.\n",
    "For example if User A and User B both liked Product X, and User A also liked Product Y, the model might recommend Product Y to User B.\n",
    "3. **Self Attention Transformer model:**: This engine uses deep learning techniques to get better product suggestion  based on customer behavior. The core idea is to use self-attention mechanisms to capture relationships between products that a user has rated and suggest products that are similar in terms of user preferences."
   ]
  },
  {
   "cell_type": "markdown",
   "id": "1577469d-1d6b-4c97-811d-d57e26c5e42f",
   "metadata": {},
   "source": [
    "# MODEL"
   ]
  },
  {
   "cell_type": "markdown",
   "id": "9cfcb69c-a80f-4daf-8224-d6c1a3006785",
   "metadata": {},
   "source": [
    "#### Import Libraries"
   ]
  },
  {
   "cell_type": "code",
   "execution_count": 6,
   "id": "79cf8436-8b0b-4d48-942a-eeba1f72e8db",
   "metadata": {},
   "outputs": [],
   "source": [
    "import pandas as pd\n",
    "import numpy as np \n",
    "import matplotlib.pyplot as plt\n",
    "import seaborn as sns"
   ]
  },
  {
   "cell_type": "markdown",
   "id": "92d30a9b-5fc6-4a12-87be-d60526b44b3c",
   "metadata": {},
   "source": [
    "#### Read the data set "
   ]
  },
  {
   "cell_type": "code",
   "execution_count": 8,
   "id": "db65431c-bd66-4a9f-867a-b56bd4df9c45",
   "metadata": {},
   "outputs": [
    {
     "data": {
      "text/html": [
       "<div>\n",
       "<style scoped>\n",
       "    .dataframe tbody tr th:only-of-type {\n",
       "        vertical-align: middle;\n",
       "    }\n",
       "\n",
       "    .dataframe tbody tr th {\n",
       "        vertical-align: top;\n",
       "    }\n",
       "\n",
       "    .dataframe thead th {\n",
       "        text-align: right;\n",
       "    }\n",
       "</style>\n",
       "<table border=\"1\" class=\"dataframe\">\n",
       "  <thead>\n",
       "    <tr style=\"text-align: right;\">\n",
       "      <th></th>\n",
       "      <th>UserId</th>\n",
       "      <th>ProductId</th>\n",
       "      <th>Rating</th>\n",
       "      <th>Timestamp</th>\n",
       "    </tr>\n",
       "  </thead>\n",
       "  <tbody>\n",
       "    <tr>\n",
       "      <th>0</th>\n",
       "      <td>A39HTATAQ9V7YF</td>\n",
       "      <td>0205616461</td>\n",
       "      <td>5.0</td>\n",
       "      <td>1369699200</td>\n",
       "    </tr>\n",
       "    <tr>\n",
       "      <th>1</th>\n",
       "      <td>A3JM6GV9MNOF9X</td>\n",
       "      <td>0558925278</td>\n",
       "      <td>3.0</td>\n",
       "      <td>1355443200</td>\n",
       "    </tr>\n",
       "    <tr>\n",
       "      <th>2</th>\n",
       "      <td>A1Z513UWSAAO0F</td>\n",
       "      <td>0558925278</td>\n",
       "      <td>5.0</td>\n",
       "      <td>1404691200</td>\n",
       "    </tr>\n",
       "    <tr>\n",
       "      <th>3</th>\n",
       "      <td>A1WMRR494NWEWV</td>\n",
       "      <td>0733001998</td>\n",
       "      <td>4.0</td>\n",
       "      <td>1382572800</td>\n",
       "    </tr>\n",
       "    <tr>\n",
       "      <th>4</th>\n",
       "      <td>A3IAAVS479H7M7</td>\n",
       "      <td>0737104473</td>\n",
       "      <td>1.0</td>\n",
       "      <td>1274227200</td>\n",
       "    </tr>\n",
       "  </tbody>\n",
       "</table>\n",
       "</div>"
      ],
      "text/plain": [
       "           UserId   ProductId  Rating   Timestamp\n",
       "0  A39HTATAQ9V7YF  0205616461     5.0  1369699200\n",
       "1  A3JM6GV9MNOF9X  0558925278     3.0  1355443200\n",
       "2  A1Z513UWSAAO0F  0558925278     5.0  1404691200\n",
       "3  A1WMRR494NWEWV  0733001998     4.0  1382572800\n",
       "4  A3IAAVS479H7M7  0737104473     1.0  1274227200"
      ]
     },
     "execution_count": 8,
     "metadata": {},
     "output_type": "execute_result"
    }
   ],
   "source": [
    "data = pd.read_csv(r\"C:\\Users\\Owner\\Desktop\\ML Recommender System Project\\ratings_Beauty.csv\")\n",
    "data.head()"
   ]
  },
  {
   "cell_type": "code",
   "execution_count": 9,
   "id": "34add8d7-f497-4fc8-acf9-5569f0849200",
   "metadata": {},
   "outputs": [
    {
     "data": {
      "text/html": [
       "<div>\n",
       "<style scoped>\n",
       "    .dataframe tbody tr th:only-of-type {\n",
       "        vertical-align: middle;\n",
       "    }\n",
       "\n",
       "    .dataframe tbody tr th {\n",
       "        vertical-align: top;\n",
       "    }\n",
       "\n",
       "    .dataframe thead th {\n",
       "        text-align: right;\n",
       "    }\n",
       "</style>\n",
       "<table border=\"1\" class=\"dataframe\">\n",
       "  <thead>\n",
       "    <tr style=\"text-align: right;\">\n",
       "      <th></th>\n",
       "      <th>count</th>\n",
       "      <th>mean</th>\n",
       "      <th>std</th>\n",
       "      <th>min</th>\n",
       "      <th>25%</th>\n",
       "      <th>50%</th>\n",
       "      <th>75%</th>\n",
       "      <th>max</th>\n",
       "    </tr>\n",
       "  </thead>\n",
       "  <tbody>\n",
       "    <tr>\n",
       "      <th>Rating</th>\n",
       "      <td>2023070.0</td>\n",
       "      <td>4.149036e+00</td>\n",
       "      <td>1.311505e+00</td>\n",
       "      <td>1.0</td>\n",
       "      <td>4.000000e+00</td>\n",
       "      <td>5.000000e+00</td>\n",
       "      <td>5.000000e+00</td>\n",
       "      <td>5.000000e+00</td>\n",
       "    </tr>\n",
       "    <tr>\n",
       "      <th>Timestamp</th>\n",
       "      <td>2023070.0</td>\n",
       "      <td>1.360389e+09</td>\n",
       "      <td>4.611860e+07</td>\n",
       "      <td>908755200.0</td>\n",
       "      <td>1.350259e+09</td>\n",
       "      <td>1.372810e+09</td>\n",
       "      <td>1.391472e+09</td>\n",
       "      <td>1.406074e+09</td>\n",
       "    </tr>\n",
       "  </tbody>\n",
       "</table>\n",
       "</div>"
      ],
      "text/plain": [
       "               count          mean           std          min           25%  \\\n",
       "Rating     2023070.0  4.149036e+00  1.311505e+00          1.0  4.000000e+00   \n",
       "Timestamp  2023070.0  1.360389e+09  4.611860e+07  908755200.0  1.350259e+09   \n",
       "\n",
       "                    50%           75%           max  \n",
       "Rating     5.000000e+00  5.000000e+00  5.000000e+00  \n",
       "Timestamp  1.372810e+09  1.391472e+09  1.406074e+09  "
      ]
     },
     "execution_count": 9,
     "metadata": {},
     "output_type": "execute_result"
    }
   ],
   "source": [
    "# Check summary statistics\n",
    "data.describe().transpose()"
   ]
  },
  {
   "cell_type": "code",
   "execution_count": 10,
   "id": "ae9a09fd-0c36-4683-8800-ff59fd1b2032",
   "metadata": {},
   "outputs": [
    {
     "name": "stdout",
     "output_type": "stream",
     "text": [
      "<class 'pandas.core.frame.DataFrame'>\n",
      "RangeIndex: 2023070 entries, 0 to 2023069\n",
      "Data columns (total 4 columns):\n",
      " #   Column     Dtype  \n",
      "---  ------     -----  \n",
      " 0   UserId     object \n",
      " 1   ProductId  object \n",
      " 2   Rating     float64\n",
      " 3   Timestamp  int64  \n",
      "dtypes: float64(1), int64(1), object(2)\n",
      "memory usage: 61.7+ MB\n"
     ]
    }
   ],
   "source": [
    "# check for data informartion to data type forms \n",
    "data.info()"
   ]
  },
  {
   "cell_type": "code",
   "execution_count": 11,
   "id": "535f3b76-eebe-4891-9246-99d1b4525ad6",
   "metadata": {},
   "outputs": [
    {
     "data": {
      "text/html": [
       "<div>\n",
       "<style scoped>\n",
       "    .dataframe tbody tr th:only-of-type {\n",
       "        vertical-align: middle;\n",
       "    }\n",
       "\n",
       "    .dataframe tbody tr th {\n",
       "        vertical-align: top;\n",
       "    }\n",
       "\n",
       "    .dataframe thead th {\n",
       "        text-align: right;\n",
       "    }\n",
       "</style>\n",
       "<table border=\"1\" class=\"dataframe\">\n",
       "  <thead>\n",
       "    <tr style=\"text-align: right;\">\n",
       "      <th></th>\n",
       "      <th>UserId</th>\n",
       "      <th>ProductId</th>\n",
       "      <th>Rating</th>\n",
       "      <th>Timestamp</th>\n",
       "    </tr>\n",
       "  </thead>\n",
       "  <tbody>\n",
       "    <tr>\n",
       "      <th>0</th>\n",
       "      <td>A39HTATAQ9V7YF</td>\n",
       "      <td>0205616461</td>\n",
       "      <td>5.0</td>\n",
       "      <td>2013-05-28</td>\n",
       "    </tr>\n",
       "    <tr>\n",
       "      <th>1</th>\n",
       "      <td>A3JM6GV9MNOF9X</td>\n",
       "      <td>0558925278</td>\n",
       "      <td>3.0</td>\n",
       "      <td>2012-12-14</td>\n",
       "    </tr>\n",
       "    <tr>\n",
       "      <th>2</th>\n",
       "      <td>A1Z513UWSAAO0F</td>\n",
       "      <td>0558925278</td>\n",
       "      <td>5.0</td>\n",
       "      <td>2014-07-07</td>\n",
       "    </tr>\n",
       "    <tr>\n",
       "      <th>3</th>\n",
       "      <td>A1WMRR494NWEWV</td>\n",
       "      <td>0733001998</td>\n",
       "      <td>4.0</td>\n",
       "      <td>2013-10-24</td>\n",
       "    </tr>\n",
       "    <tr>\n",
       "      <th>4</th>\n",
       "      <td>A3IAAVS479H7M7</td>\n",
       "      <td>0737104473</td>\n",
       "      <td>1.0</td>\n",
       "      <td>2010-05-19</td>\n",
       "    </tr>\n",
       "  </tbody>\n",
       "</table>\n",
       "</div>"
      ],
      "text/plain": [
       "           UserId   ProductId  Rating  Timestamp\n",
       "0  A39HTATAQ9V7YF  0205616461     5.0 2013-05-28\n",
       "1  A3JM6GV9MNOF9X  0558925278     3.0 2012-12-14\n",
       "2  A1Z513UWSAAO0F  0558925278     5.0 2014-07-07\n",
       "3  A1WMRR494NWEWV  0733001998     4.0 2013-10-24\n",
       "4  A3IAAVS479H7M7  0737104473     1.0 2010-05-19"
      ]
     },
     "execution_count": 11,
     "metadata": {},
     "output_type": "execute_result"
    }
   ],
   "source": [
    "# convert the timestamp to a proper datetime as the datatype is an int64 now \n",
    "data['Timestamp'] = pd.to_datetime(data['Timestamp'], unit='s')\n",
    "data.head()"
   ]
  },
  {
   "cell_type": "markdown",
   "id": "6d8361fe-5ddf-4508-8094-e3aeceacbeaa",
   "metadata": {},
   "source": [
    "# Exploratory Data Analysis "
   ]
  },
  {
   "cell_type": "code",
   "execution_count": 13,
   "id": "743305e2-7a26-479c-b5fc-d4a15364aeba",
   "metadata": {},
   "outputs": [
    {
     "data": {
      "text/plain": [
       "UserId       0\n",
       "ProductId    0\n",
       "Rating       0\n",
       "Timestamp    0\n",
       "dtype: int64"
      ]
     },
     "execution_count": 13,
     "metadata": {},
     "output_type": "execute_result"
    }
   ],
   "source": [
    "#check for missing values\n",
    "data.isnull().sum()"
   ]
  },
  {
   "cell_type": "code",
   "execution_count": 14,
   "id": "7ddf6d14-c8e8-48c7-b588-2ebbe24f64ea",
   "metadata": {},
   "outputs": [
    {
     "data": {
      "image/png": "[encoded data removed]",
      "text/plain": [
       "<Figure size 1000x500 with 1 Axes>"
      ]
     },
     "metadata": {},
     "output_type": "display_data"
    }
   ],
   "source": [
    "# Plot: Average rating per customer\n",
    "avg_rating_per_customer = data.groupby('UserId')['Rating'].mean()\n",
    "plt.figure(figsize=(10, 5))\n",
    "sns.histplot(avg_rating_per_customer, bins=30, kde=True, color='orange')\n",
    "plt.title('Distribution of Average Ratings per Customer')\n",
    "plt.xlabel('Average Rating')\n",
    "plt.ylabel(\"# of Customers\")\n",
    "plt.show()"
   ]
  },
  {
   "cell_type": "code",
   "execution_count": 15,
   "id": "0a73ed1b-29fb-4ddc-8463-04564e300ef7",
   "metadata": {},
   "outputs": [
    {
     "data": {
      "image/png": "[encoded data removed]",
      "text/plain": [
       "<Figure size 1000x500 with 1 Axes>"
      ]
     },
     "metadata": {},
     "output_type": "display_data"
    }
   ],
   "source": [
    "# Plot Popular products based on total ratings\n",
    "popular_products_total = data['ProductId'].value_counts().head(10)\n",
    "plt.figure(figsize=(10, 5))\n",
    "popular_products_total.plot(kind='bar', title='Top 10 Popular Products based on Total Ratings', xlabel='Product ID', ylabel='Number of Ratings', color='green')\n",
    "plt.show()"
   ]
  },
  {
   "cell_type": "code",
   "execution_count": 16,
   "id": "6be94d96-81e5-43ed-ae57-dc053b70216b",
   "metadata": {},
   "outputs": [
    {
     "data": {
      "image/png": "[encoded data removed]",
      "text/plain": [
       "<Figure size 1000x500 with 1 Axes>"
      ]
     },
     "metadata": {},
     "output_type": "display_data"
    }
   ],
   "source": [
    "# Plot Popular products based on average ratings\n",
    "popular_products_avg = data.groupby('ProductId')['Rating'].mean().sort_values(ascending=False).head(10)\n",
    "plt.figure(figsize=(10, 5))\n",
    "popular_products_avg.plot(kind='bar', title='Top 10 Popular Products by Average Rating', xlabel='Product ID', ylabel='Average Rating', color='purple')\n",
    "plt.show()"
   ]
  },
  {
   "cell_type": "markdown",
   "id": "3b537a2f-c6ef-42fd-98a7-56856b79bd88",
   "metadata": {},
   "source": [
    "### Recommender Engine 1 : Popularity Based Recommendation Engine "
   ]
  },
  {
   "cell_type": "markdown",
   "id": "b34130cc-b8a0-471a-b1cd-8e8f98443e71",
   "metadata": {},
   "source": [
    "For this recommender engine, we use a weighted score for each product to rank them. One common method is using a weighted rating formula.\n",
    "\n",
    "##### Weighted Rating (WR):\n",
    "\n",
    "**WR** = *(v / (v + m)) ⋅ R + (m / (v + m)) ⋅ C*\n",
    "Where:  \n",
    "- **R**: Average rating of the product.  \n",
    "- **v**: Number of ratings for the product.  \n",
    "- **m**: Minimum number of ratings required to be considered (threshold).  \n",
    "- **C**: Mean rating across all products.  \n",
    "This formula ensures that products with a high number of ratings and good average ratings rank higher than those with low ratings or very few reviews.\n",
    "\n",
    "From this we get the top 10 products which have higher ratings and have a high rating counts"
   ]
  },
  {
   "cell_type": "code",
   "execution_count": 19,
   "id": "39e58cbe-e860-4715-8335-f8b40ebd7e36",
   "metadata": {},
   "outputs": [
    {
     "name": "stdout",
     "output_type": "stream",
     "text": [
      "Top 10 recommendations for new customers on the beauty CLP are:\n",
      "            total_ratings  average_rating  weighted_score\n",
      "ProductId                                                \n",
      "B004CNRDBU             58        5.000000        4.945099\n",
      "B00K7ER6LU             85        4.976471        4.939283\n",
      "B001F0RBRE             41        5.000000        4.924359\n",
      "B00FPROWWU             79        4.962025        4.922845\n",
      "B00466VJ04             38        5.000000        4.918956\n",
      "B004AI5756             38        5.000000        4.918956\n",
      "B002YFN49I             98        4.948980        4.917609\n",
      "B005V247N8             37        5.000000        4.916979\n",
      "B00KH6F6TM             58        4.965517        4.912841\n",
      "B009OWSHQE             88        4.943182        4.908654\n"
     ]
    }
   ],
   "source": [
    "def calculate_weighted_score(data, m_percentile=0.70):\n",
    "    # Minimum ratings required to be considered\n",
    "    m = data['ProductId'].value_counts().quantile(m_percentile)\n",
    "    # Mean rating across all products\n",
    "    C = data['Rating'].mean()\n",
    "\n",
    "    # Calculate metrics for each product\n",
    "    product_stats = data.groupby('ProductId').agg(\n",
    "        total_ratings=('Rating', 'count'),\n",
    "        average_rating=('Rating', 'mean')\n",
    "    )\n",
    "\n",
    "    # Filter products with enough ratings\n",
    "    qualified_products = product_stats[product_stats['total_ratings'] >= m].copy()  # Explicitly create a copy\n",
    "\n",
    "    # Weighted rating formula\n",
    "    qualified_products['weighted_score'] = (\n",
    "        (qualified_products['total_ratings'] / (qualified_products['total_ratings'] + m)) * qualified_products['average_rating'] +\n",
    "        (m / (qualified_products['total_ratings'] + m)) * C\n",
    "    )\n",
    "\n",
    "    # Sort by weighted score\n",
    "    top_products = qualified_products.sort_values('weighted_score', ascending=False).head(10)\n",
    "    return top_products\n",
    "\n",
    "# Apply the function\n",
    "top_weighted_products = calculate_weighted_score(data)\n",
    "print(\"Top 10 recommendations for new customers on the beauty CLP are:\")\n",
    "print(top_weighted_products)"
   ]
  },
  {
   "cell_type": "markdown",
   "id": "33895734-af1e-454c-a44e-d2ff60e19ef2",
   "metadata": {},
   "source": [
    "### Recommender Engine 2 : Popularity Based Recommendation Engine "
   ]
  },
  {
   "cell_type": "markdown",
   "id": "54bcbafe-9399-4100-be0a-dc7a4c6b1126",
   "metadata": {},
   "source": [
    "This engine is specifically designed for returning customers with prior shopping and rating history. Here the system suggests products based on their past interactions and the preferences of similar users.\n",
    "A collaborative filtering system called Singular Value Decomposition (SVD) is used.\n",
    "The way the model trains is using some sort of  matrix factorization to generalize preferences across customers  and products. \n",
    "Then capturing latent (hidden) relationships, such as a customers inclination toward a specific product category. then produce specific product suggestion. "
   ]
  },
  {
   "cell_type": "code",
   "execution_count": 22,
   "id": "e7803bc7-2a0a-460b-ae1e-41022c6784d7",
   "metadata": {},
   "outputs": [],
   "source": [
    "# import the suprise library\n",
    "from surprise import SVD, Dataset, Reader, accuracy\n",
    "from surprise.model_selection import train_test_split"
   ]
  },
  {
   "cell_type": "code",
   "execution_count": 23,
   "id": "76fb85ac-6752-401c-aa6b-1dbf7748508b",
   "metadata": {},
   "outputs": [],
   "source": [
    "# Prepare data for Surprise library\n",
    "reader = Reader(rating_scale=(1, 5))\n",
    "data_surprise = Dataset.load_from_df(data[['UserId', 'ProductId', 'Rating']], reader)"
   ]
  },
  {
   "cell_type": "code",
   "execution_count": 24,
   "id": "aee669ab-40d7-45ec-8f07-9d951ae635f4",
   "metadata": {},
   "outputs": [
    {
     "data": {
      "text/plain": [
       "<surprise.prediction_algorithms.matrix_factorization.SVD at 0x1e632737a10>"
      ]
     },
     "execution_count": 24,
     "metadata": {},
     "output_type": "execute_result"
    }
   ],
   "source": [
    "# Train test and split dataset \n",
    "trainset, testset = train_test_split(data_surprise, test_size=0.2)\n",
    "# Train SVD model (Singular Value Decomposition)\n",
    "model = SVD()\n",
    "model.fit(trainset)"
   ]
  },
  {
   "cell_type": "code",
   "execution_count": 25,
   "id": "10e6816a-46f0-49fa-818e-b406035d1ae5",
   "metadata": {},
   "outputs": [],
   "source": [
    "# Predict on test set\n",
    "predictions = model.test(testset)"
   ]
  },
  {
   "cell_type": "code",
   "execution_count": 26,
   "id": "9d680dfb-5af0-4026-8a58-45577766463d",
   "metadata": {},
   "outputs": [
    {
     "name": "stdout",
     "output_type": "stream",
     "text": [
      "RMSE: 1.2489\n",
      "Collaborative Filtering Model RMSE: 1.2488630083184908\n"
     ]
    }
   ],
   "source": [
    "# Evaluate model performance\n",
    "rmse = accuracy.rmse(predictions)\n",
    "print(f\"Collaborative Filtering Model RMSE: {rmse}\")"
   ]
  },
  {
   "cell_type": "code",
   "execution_count": 27,
   "id": "dfc663a9-fb2e-4799-8425-3c55c90de4cb",
   "metadata": {},
   "outputs": [
    {
     "name": "stdout",
     "output_type": "stream",
     "text": [
      "Top recommendations for user A39HTATAQ9V7YF: [('B0006B0VNY', 5), ('B000KDWVYU', 5), ('B0011XVS42', 5), ('B001LNOEKC', 5), ('B002CMLH6A', 5), ('B003MWZI32', 5), ('B00466VJ04', 5), ('B005R4LSX2', 5), ('B007TP0V8U', 5), ('B009OWSHQE', 5)]\n"
     ]
    }
   ],
   "source": [
    "# Make a top 10 product recommendations for a returning customer\n",
    "def recommend_for_user(model, user_id, data, n=10):\n",
    "    user_products = data[data['UserId'] == user_id]['ProductId'].unique()\n",
    "    all_products = data['ProductId'].unique()\n",
    "    products_to_predict = [p for p in all_products if p not in user_products]\n",
    "    predictions = [(product, model.predict(user_id, product).est) for product in products_to_predict]\n",
    "    predictions.sort(key=lambda x: x[1], reverse=True)\n",
    "    return predictions[:n]\n",
    "\n",
    "sample_user = data['UserId'].iloc[0]\n",
    "recommendations = recommend_for_user(model, sample_user, data)\n",
    "print(f\"Top recommendations for user {sample_user}:\", recommendations)"
   ]
  },
  {
   "cell_type": "markdown",
   "id": "35f4143c-53f0-408f-859f-b5973a5893a7",
   "metadata": {},
   "source": [
    "### Recommender Engine 3: Self-Attention Transformer "
   ]
  },
  {
   "cell_type": "markdown",
   "id": "3aac29c1-3ad2-4291-b09f-457c1cd49cc6",
   "metadata": {},
   "source": [
    "Here we Encoded customer IDs representing individual users and  encoded product IDs representing items the user interacts with.\n",
    "These inputs are embedded into dense vectors via the embedding layers, creating numerical representations for users and products.\n",
    "We then create an embedding layer. These embeddings capture learned latent features, such as a user’s preferences and a product's attributes.\n",
    "We then add self attention layers. This helps the model focus on the relationships between items that a user has interacted with (or rated).\n",
    "The self-attention layer outputs a vector summarizing the dependencies between the user and the products they’ve interacted with are generated.\n",
    "The self-attention output is passed through a feed-forward network (FFN) to learn more complex relationships. \n",
    "The final output layer is a The final output is a single value, representing the predicted rating of a product for a given user."
   ]
  },
  {
   "cell_type": "code",
   "execution_count": 46,
   "id": "05acddec-a770-4c4a-a13a-061fde180775",
   "metadata": {},
   "outputs": [],
   "source": [
    "#import libaries\n",
    "import tensorflow as tf\n",
    "from tensorflow.keras import layers\n",
    "from sklearn.preprocessing import LabelEncoder"
   ]
  },
  {
   "cell_type": "code",
   "execution_count": 48,
   "id": "7ace9bef-ec1d-49a9-bb1e-741f6a04292b",
   "metadata": {},
   "outputs": [],
   "source": [
    "#preprocess the data Encoding UserId and ProductId using LabelEncoder\n",
    "user_encoder = LabelEncoder()\n",
    "product_encoder = LabelEncoder()\n",
    "data['UserId_encoded'] = user_encoder.fit_transform(data['UserId'])\n",
    "data['ProductId_encoded'] = product_encoder.fit_transform(data['ProductId'])"
   ]
  },
  {
   "cell_type": "code",
   "execution_count": 50,
   "id": "eaab201f-3272-457f-9305-6d1f3ade5d76",
   "metadata": {},
   "outputs": [],
   "source": [
    "#Create the user-item interaction matrix\n",
    "num_users = data['UserId_encoded'].nunique()\n",
    "num_products = data['ProductId_encoded'].nunique()"
   ]
  },
  {
   "cell_type": "code",
   "execution_count": 52,
   "id": "801771c3-08f0-4657-9aca-da441c0ccc60",
   "metadata": {},
   "outputs": [],
   "source": [
    "# Define the Transformer Model using Functional API\n",
    "# Input layers for user and product\n",
    "user_input = layers.Input(shape=(1,), name=\"User_Input\")\n",
    "product_input = layers.Input(shape=(1,), name=\"Product_Input\")\n",
    "# Embedding layers for users and products\n",
    "user_embedding = layers.Embedding(input_dim=num_users, output_dim=50, name=\"User_Embedding\")(user_input)\n",
    "product_embedding = layers.Embedding(input_dim=num_products, output_dim=50, name=\"Product_Embedding\")(product_input)\n",
    "# Apply Self-Attention Mechanism\n",
    "attention_output = layers.MultiHeadAttention(num_heads=2, key_dim=50, name=\"Self_Attention\")(\n",
    "    query=user_embedding, key=product_embedding, value=product_embedding\n",
    ")\n",
    "# Feed-forward layer\n",
    "ffn_output = layers.Dense(128, activation=\"relu\", name=\"FFN_1\")(attention_output)\n",
    "ffn_output = layers.Dense(50, name=\"FFN_2\")(ffn_output)\n",
    "# Output layer to predict ratings\n",
    "predicted_rating = layers.Dense(1, name=\"Output_Layer\")(ffn_output)"
   ]
  },
  {
   "cell_type": "code",
   "execution_count": 54,
   "id": "847b1436-2f71-482a-893b-6a58d0ae7df3",
   "metadata": {},
   "outputs": [],
   "source": [
    "# create the Self attention Recommder Model\n",
    "model = tf.keras.Model(inputs=[user_input, product_input], outputs=predicted_rating, name=\"Transformer_Recommender\")\n",
    "# Compile the model\n",
    "model.compile(optimizer=\"adam\", loss=\"mean_squared_error\")"
   ]
  },
  {
   "cell_type": "code",
   "execution_count": 68,
   "id": "a62a1dd0-254c-4500-af18-1bb81a949116",
   "metadata": {},
   "outputs": [
    {
     "name": "stdout",
     "output_type": "stream",
     "text": [
      "Epoch 1/5\n",
      "\u001b[1m791/791\u001b[0m \u001b[32m━━━━━━━━━━━━━━━━━━━━\u001b[0m\u001b[37m\u001b[0m \u001b[1m274s\u001b[0m 346ms/step - loss: 1.7273 - val_loss: 1.7060\n",
      "Epoch 2/5\n",
      "\u001b[1m791/791\u001b[0m \u001b[32m━━━━━━━━━━━━━━━━━━━━\u001b[0m\u001b[37m\u001b[0m \u001b[1m1375s\u001b[0m 2s/step - loss: 1.7216 - val_loss: 1.7061\n",
      "Epoch 3/5\n",
      "\u001b[1m791/791\u001b[0m \u001b[32m━━━━━━━━━━━━━━━━━━━━\u001b[0m\u001b[37m\u001b[0m \u001b[1m275s\u001b[0m 347ms/step - loss: 1.7237 - val_loss: 1.7069\n",
      "Epoch 4/5\n",
      "\u001b[1m791/791\u001b[0m \u001b[32m━━━━━━━━━━━━━━━━━━━━\u001b[0m\u001b[37m\u001b[0m \u001b[1m927s\u001b[0m 1s/step - loss: 1.7220 - val_loss: 1.7072\n"
     ]
    },
    {
     "data": {
      "text/plain": [
       "<keras.src.callbacks.history.History at 0x1e72e160500>"
      ]
     },
     "execution_count": 68,
     "metadata": {},
     "output_type": "execute_result"
    }
   ],
   "source": [
    "# Prepare training data\n",
    "X_train = [data['UserId_encoded'].values.reshape(-1, 1),data['ProductId_encoded'].values.reshape(-1, 1)]\n",
    "y_train = data['Rating'].values\n",
    "# Train the model\n",
    "early_stopping = tf.keras.callbacks.EarlyStopping(monitor='val_loss', patience=3, restore_best_weights=True)\n",
    "model.fit(X_train, y_train, epochs=5, batch_size=2048, validation_split=0.2, callbacks=[early_stopping])"
   ]
  },
  {
   "cell_type": "code",
   "execution_count": 90,
   "id": "bdf19512-9a43-4b3f-b3e6-e4f84cd060e7",
   "metadata": {},
   "outputs": [
    {
     "name": "stdout",
     "output_type": "stream",
     "text": [
      "Precision@K: 0.2\n"
     ]
    }
   ],
   "source": [
    "# get evlaution metrics to see model performance\n",
    "def precision_at_k(predicted, ground_truth, k):\n",
    "    \"\"\"Calculate Precision@K for a single user.\"\"\"\n",
    "    predicted_top_k = set(predicted[:k])\n",
    "    relevant_items = set(ground_truth)\n",
    "    return len(predicted_top_k & relevant_items) / k\n",
    "\n",
    "# Example usage\n",
    "predicted_items = [\"0737104473\", \"1234567890\", \"0987654321\"]  # Predicted top-K product IDs\n",
    "ground_truth_items = [\"0737104473\", \"4567891234\"]  # Actual product IDs the user interacted with\n",
    "\n",
    "precision = precision_at_k(predicted_items, ground_truth_items, k=5)\n",
    "print(f\"Precision@K: {precision}\")\n"
   ]
  },
  {
   "cell_type": "code",
   "execution_count": 88,
   "id": "54c3c618-2637-4b91-8f25-d6cb91ecca66",
   "metadata": {},
   "outputs": [
    {
     "name": "stdout",
     "output_type": "stream",
     "text": [
      "\u001b[1m7790/7790\u001b[0m \u001b[32m━━━━━━━━━━━━━━━━━━━━\u001b[0m\u001b[37m\u001b[0m \u001b[1m10s\u001b[0m 1ms/step\n",
      "Top 10 product suggestions for User A3IAAVS479H7M7:\n",
      "Product ID: B000093I60, Predicted Rating: 4.258391380310059\n",
      "Product ID: B000C1VW18, Predicted Rating: 4.2363457679748535\n",
      "Product ID: B001ET6YTC, Predicted Rating: 4.22622537612915\n",
      "Product ID: B001FOFI0W, Predicted Rating: 4.221830368041992\n",
      "Product ID: B001C5S8Z6, Predicted Rating: 4.21655797958374\n",
      "Product ID: B006T8JG0M, Predicted Rating: 4.215673923492432\n",
      "Product ID: B001JB8Y0M, Predicted Rating: 4.215639591217041\n",
      "Product ID: B003RR4A2M, Predicted Rating: 4.214334487915039\n",
      "Product ID: B0033TF0ZK, Predicted Rating: 4.214288711547852\n",
      "Product ID: B001VHLH9Y, Predicted Rating: 4.212117671966553\n"
     ]
    }
   ],
   "source": [
    "# Example user ID\n",
    "user_id = \"A3IAAVS479H7M7\"  # example user id as a string\n",
    "\n",
    "# Encode the user ID\n",
    "encoded_user_id = user_encoder.transform([user_id])[0]\n",
    "\n",
    "# Get all available product IDs from the original dataset\n",
    "all_product_ids = data['ProductId'].unique()\n",
    "\n",
    "# Encode all product IDs\n",
    "encoded_product_ids = product_encoder.transform(all_product_ids)\n",
    "\n",
    "# Prepare inputs for prediction\n",
    "user_input = np.array([encoded_user_id] * len(encoded_product_ids))  # repeat the user ID for all products\n",
    "product_input = np.array(encoded_product_ids)\n",
    "\n",
    "# Predict ratings for all products for this user\n",
    "predicted_ratings = model.predict([user_input, product_input])\n",
    "\n",
    "# Combine product IDs with their predicted ratings\n",
    "product_ratings = list(zip(all_product_ids, predicted_ratings.flatten()))\n",
    "\n",
    "# Sort by predicted ratings in descending order\n",
    "top_10_products = sorted(product_ratings, key=lambda x: x[1], reverse=True)[:10]\n",
    "\n",
    "# Print the top 5 product suggestions\n",
    "print(f\"Top 10 product suggestions for User {user_id}:\")\n",
    "for product_id, rating in top_10_products:\n",
    "    print(f\"Product ID: {product_id}, Predicted Rating: {rating}\")\n"
   ]
  },
  {
   "cell_type": "code",
   "execution_count": null,
   "id": "f82203c3-d939-4d96-b4db-d6235f499b62",
   "metadata": {},
   "outputs": [],
   "source": []
  }
 ],
 "metadata": {
  "kernelspec": {
   "display_name": "Python 3 (ipykernel)",
   "language": "python",
   "name": "python3"
  },
  "language_info": {
   "codemirror_mode": {
    "name": "ipython",
    "version": 3
   },
   "file_extension": ".py",
   "mimetype": "text/x-python",
   "name": "python",
   "nbconvert_exporter": "python",
   "pygments_lexer": "ipython3",
   "version": "3.12.3"
  }
 },
 "nbformat": 4,
 "nbformat_minor": 5
}
